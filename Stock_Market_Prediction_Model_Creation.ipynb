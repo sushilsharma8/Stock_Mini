{
 "cells": [
  {
   "cell_type": "code",
   "execution_count": 26,
   "id": "88d67c13-1dca-451c-85d5-eb234183c342",
   "metadata": {},
   "outputs": [],
   "source": [
    "import numpy as np\n",
    "import pandas as pd\n",
    "import matplotlib.pyplot as plt\n",
    "import yfinance as yf"
   ]
  },
  {
   "cell_type": "code",
   "execution_count": 27,
   "id": "f3bc102c-1442-4cae-9093-f77f2b7b7e0c",
   "metadata": {},
   "outputs": [
    {
     "name": "stdout",
     "output_type": "stream",
     "text": [
      "[*********************100%%**********************]  1 of 1 completed\n"
     ]
    }
   ],
   "source": [
    "start = '2012-01-01'\n",
    "end = '2022-12-21'\n",
    "stock = 'GOOG'\n",
    "\n",
    "data = yf.download(stock, start, end)"
   ]
  },
  {
   "cell_type": "code",
   "execution_count": 28,
   "id": "8657c12a-ec44-4ea9-80c9-7ecbec9b0084",
   "metadata": {},
   "outputs": [],
   "source": [
    "data.reset_index(inplace=True)"
   ]
  },
  {
   "cell_type": "code",
   "execution_count": 29,
   "id": "e8fadd81-946b-47fc-b014-8ecf059302ce",
   "metadata": {},
   "outputs": [
    {
     "data": {
      "text/html": [
       "<div>\n",
       "<style scoped>\n",
       "    .dataframe tbody tr th:only-of-type {\n",
       "        vertical-align: middle;\n",
       "    }\n",
       "\n",
       "    .dataframe tbody tr th {\n",
       "        vertical-align: top;\n",
       "    }\n",
       "\n",
       "    .dataframe thead th {\n",
       "        text-align: right;\n",
       "    }\n",
       "</style>\n",
       "<table border=\"1\" class=\"dataframe\">\n",
       "  <thead>\n",
       "    <tr style=\"text-align: right;\">\n",
       "      <th></th>\n",
       "      <th>Date</th>\n",
       "      <th>Open</th>\n",
       "      <th>High</th>\n",
       "      <th>Low</th>\n",
       "      <th>Close</th>\n",
       "      <th>Adj Close</th>\n",
       "      <th>Volume</th>\n",
       "    </tr>\n",
       "  </thead>\n",
       "  <tbody>\n",
       "    <tr>\n",
       "      <th>0</th>\n",
       "      <td>2012-01-03</td>\n",
       "      <td>16.262545</td>\n",
       "      <td>16.641375</td>\n",
       "      <td>16.248346</td>\n",
       "      <td>16.573130</td>\n",
       "      <td>16.573130</td>\n",
       "      <td>147611217</td>\n",
       "    </tr>\n",
       "    <tr>\n",
       "      <th>1</th>\n",
       "      <td>2012-01-04</td>\n",
       "      <td>16.563665</td>\n",
       "      <td>16.693678</td>\n",
       "      <td>16.453827</td>\n",
       "      <td>16.644611</td>\n",
       "      <td>16.644611</td>\n",
       "      <td>114989399</td>\n",
       "    </tr>\n",
       "    <tr>\n",
       "      <th>2</th>\n",
       "      <td>2012-01-05</td>\n",
       "      <td>16.491436</td>\n",
       "      <td>16.537264</td>\n",
       "      <td>16.344486</td>\n",
       "      <td>16.413727</td>\n",
       "      <td>16.413727</td>\n",
       "      <td>131808205</td>\n",
       "    </tr>\n",
       "    <tr>\n",
       "      <th>3</th>\n",
       "      <td>2012-01-06</td>\n",
       "      <td>16.417213</td>\n",
       "      <td>16.438385</td>\n",
       "      <td>16.184088</td>\n",
       "      <td>16.189817</td>\n",
       "      <td>16.189817</td>\n",
       "      <td>108119746</td>\n",
       "    </tr>\n",
       "    <tr>\n",
       "      <th>4</th>\n",
       "      <td>2012-01-09</td>\n",
       "      <td>16.102144</td>\n",
       "      <td>16.114599</td>\n",
       "      <td>15.472754</td>\n",
       "      <td>15.503389</td>\n",
       "      <td>15.503389</td>\n",
       "      <td>233776981</td>\n",
       "    </tr>\n",
       "    <tr>\n",
       "      <th>...</th>\n",
       "      <td>...</td>\n",
       "      <td>...</td>\n",
       "      <td>...</td>\n",
       "      <td>...</td>\n",
       "      <td>...</td>\n",
       "      <td>...</td>\n",
       "      <td>...</td>\n",
       "    </tr>\n",
       "    <tr>\n",
       "      <th>2756</th>\n",
       "      <td>2022-12-14</td>\n",
       "      <td>95.540001</td>\n",
       "      <td>97.220001</td>\n",
       "      <td>93.940002</td>\n",
       "      <td>95.309998</td>\n",
       "      <td>95.309998</td>\n",
       "      <td>26452900</td>\n",
       "    </tr>\n",
       "    <tr>\n",
       "      <th>2757</th>\n",
       "      <td>2022-12-15</td>\n",
       "      <td>93.540001</td>\n",
       "      <td>94.029999</td>\n",
       "      <td>90.430000</td>\n",
       "      <td>91.199997</td>\n",
       "      <td>91.199997</td>\n",
       "      <td>28298800</td>\n",
       "    </tr>\n",
       "    <tr>\n",
       "      <th>2758</th>\n",
       "      <td>2022-12-16</td>\n",
       "      <td>91.199997</td>\n",
       "      <td>91.750000</td>\n",
       "      <td>90.010002</td>\n",
       "      <td>90.860001</td>\n",
       "      <td>90.860001</td>\n",
       "      <td>48485500</td>\n",
       "    </tr>\n",
       "    <tr>\n",
       "      <th>2759</th>\n",
       "      <td>2022-12-19</td>\n",
       "      <td>90.879997</td>\n",
       "      <td>91.199997</td>\n",
       "      <td>88.925003</td>\n",
       "      <td>89.150002</td>\n",
       "      <td>89.150002</td>\n",
       "      <td>23020500</td>\n",
       "    </tr>\n",
       "    <tr>\n",
       "      <th>2760</th>\n",
       "      <td>2022-12-20</td>\n",
       "      <td>88.730003</td>\n",
       "      <td>89.779999</td>\n",
       "      <td>88.040001</td>\n",
       "      <td>89.629997</td>\n",
       "      <td>89.629997</td>\n",
       "      <td>21976800</td>\n",
       "    </tr>\n",
       "  </tbody>\n",
       "</table>\n",
       "<p>2761 rows × 7 columns</p>\n",
       "</div>"
      ],
      "text/plain": [
       "           Date       Open       High        Low      Close  Adj Close  \\\n",
       "0    2012-01-03  16.262545  16.641375  16.248346  16.573130  16.573130   \n",
       "1    2012-01-04  16.563665  16.693678  16.453827  16.644611  16.644611   \n",
       "2    2012-01-05  16.491436  16.537264  16.344486  16.413727  16.413727   \n",
       "3    2012-01-06  16.417213  16.438385  16.184088  16.189817  16.189817   \n",
       "4    2012-01-09  16.102144  16.114599  15.472754  15.503389  15.503389   \n",
       "...         ...        ...        ...        ...        ...        ...   \n",
       "2756 2022-12-14  95.540001  97.220001  93.940002  95.309998  95.309998   \n",
       "2757 2022-12-15  93.540001  94.029999  90.430000  91.199997  91.199997   \n",
       "2758 2022-12-16  91.199997  91.750000  90.010002  90.860001  90.860001   \n",
       "2759 2022-12-19  90.879997  91.199997  88.925003  89.150002  89.150002   \n",
       "2760 2022-12-20  88.730003  89.779999  88.040001  89.629997  89.629997   \n",
       "\n",
       "         Volume  \n",
       "0     147611217  \n",
       "1     114989399  \n",
       "2     131808205  \n",
       "3     108119746  \n",
       "4     233776981  \n",
       "...         ...  \n",
       "2756   26452900  \n",
       "2757   28298800  \n",
       "2758   48485500  \n",
       "2759   23020500  \n",
       "2760   21976800  \n",
       "\n",
       "[2761 rows x 7 columns]"
      ]
     },
     "execution_count": 29,
     "metadata": {},
     "output_type": "execute_result"
    }
   ],
   "source": [
    "data"
   ]
  },
  {
   "cell_type": "code",
   "execution_count": 30,
   "id": "8a478e83-6aee-4809-9405-be6f8b65b16a",
   "metadata": {},
   "outputs": [],
   "source": [
    "ma_100_days = data.Close.rolling(100).mean()"
   ]
  },
  {
   "cell_type": "code",
   "execution_count": 31,
   "id": "fc840124-ef3e-40b0-9e74-aa5a174c4c50",
   "metadata": {},
   "outputs": [
    {
     "data": {
      "image/png": "[encoded data removed]",
      "text/plain": [
       "<Figure size 576x432 with 1 Axes>"
      ]
     },
     "metadata": {
      "needs_background": "light"
     },
     "output_type": "display_data"
    }
   ],
   "source": [
    "plt.figure(figsize=(8,6))\n",
    "plt.plot(ma_100_days, 'r')\n",
    "plt.plot(data.Close, 'g')\n",
    "plt.show()"
   ]
  },
  {
   "cell_type": "code",
   "execution_count": 32,
   "id": "1158c05f-1a2c-41f8-8add-85720074cdcd",
   "metadata": {},
   "outputs": [],
   "source": [
    "ma_200_days = data.Close.rolling(200).mean()"
   ]
  },
  {
   "cell_type": "code",
   "execution_count": 33,
   "id": "97a1b79b-2302-43d7-883a-a0a255c864bf",
   "metadata": {},
   "outputs": [
    {
     "data": {
      "image/png": "[encoded data removed]",
      "text/plain": [
       "<Figure size 576x432 with 1 Axes>"
      ]
     },
     "metadata": {
      "needs_background": "light"
     },
     "output_type": "display_data"
    }
   ],
   "source": [
    "plt.figure(figsize=(8,6))\n",
    "plt.plot(ma_100_days, 'r')\n",
    "plt.plot(ma_200_days,'b')\n",
    "plt.plot(data.Close,'g')\n",
    "plt.show()"
   ]
  },
  {
   "cell_type": "code",
   "execution_count": 34,
   "id": "0ac073de-1a30-487c-a1f8-c809cbba06db",
   "metadata": {},
   "outputs": [],
   "source": [
    "data.dropna(inplace=True)"
   ]
  },
  {
   "cell_type": "code",
   "execution_count": 35,
   "id": "64246466-177b-46f9-b4eb-6ee5005bfd6b",
   "metadata": {},
   "outputs": [],
   "source": [
    "data_train = pd.DataFrame(data.Close[0: int(len(data)*0.80)])\n",
    "data_test = pd.DataFrame(data.Close[int(len(data)*0.80): len(data)])"
   ]
  },
  {
   "cell_type": "code",
   "execution_count": 36,
   "id": "0f4c0b4b-2b5e-4f62-bd84-47a86ed3da3e",
   "metadata": {},
   "outputs": [
    {
     "data": {
      "text/plain": [
       "2208"
      ]
     },
     "execution_count": 36,
     "metadata": {},
     "output_type": "execute_result"
    }
   ],
   "source": [
    "data_train.shape[0]"
   ]
  },
  {
   "cell_type": "code",
   "execution_count": 37,
   "id": "0a609554-633d-4edf-abc1-21bd874a3cd1",
   "metadata": {},
   "outputs": [
    {
     "data": {
      "text/plain": [
       "553"
      ]
     },
     "execution_count": 37,
     "metadata": {},
     "output_type": "execute_result"
    }
   ],
   "source": [
    "data_test.shape[0]"
   ]
  },
  {
   "cell_type": "code",
   "execution_count": 38,
   "id": "d5144e93-eab7-479f-9fde-9bf8c5786dc6",
   "metadata": {},
   "outputs": [],
   "source": [
    "from sklearn.preprocessing import MinMaxScaler\n",
    "scaler = MinMaxScaler(feature_range=(0,1))"
   ]
  },
  {
   "cell_type": "code",
   "execution_count": 39,
   "id": "4c2793bd-1def-45f7-8fd2-9115eed1c2c1",
   "metadata": {},
   "outputs": [],
   "source": [
    "data_train_scale = scaler.fit_transform(data_train)"
   ]
  },
  {
   "cell_type": "code",
   "execution_count": 40,
   "id": "d55d63c2-132a-40b5-9398-e576ceba14fd",
   "metadata": {},
   "outputs": [],
   "source": [
    "x = []\n",
    "y = []\n",
    "\n",
    "for i in range(100, data_train_scale.shape[0]):\n",
    "    x.append(data_train_scale[i-100:i])\n",
    "    y.append(data_train_scale[i,0])\n",
    "    "
   ]
  },
  {
   "cell_type": "code",
   "execution_count": 41,
   "id": "998369e6-f1ad-4cf5-af58-0aa5b7aa315c",
   "metadata": {},
   "outputs": [],
   "source": [
    "x, y = np.array(x), np.array(y)"
   ]
  },
  {
   "cell_type": "code",
   "execution_count": 42,
   "id": "3c9c6717-e792-4206-960f-0689203555ca",
   "metadata": {},
   "outputs": [],
   "source": [
    "from keras.layers import Dense, Dropout, LSTM\n",
    "from keras.models import Sequential"
   ]
  },
  {
   "cell_type": "code",
   "execution_count": 43,
   "id": "14867cd4-c1ed-4cf9-b339-245bfaec0852",
   "metadata": {},
   "outputs": [],
   "source": [
    "model = Sequential()\n",
    "model.add(LSTM(units = 50, activation = 'relu', return_sequences = True,\n",
    "               input_shape = ((x.shape[1],1))))\n",
    "model.add(Dropout(0.2))\n",
    "\n",
    "model.add(LSTM(units = 60, activation='relu', return_sequences = True))\n",
    "model.add(Dropout(0.3))\n",
    "\n",
    "model.add(LSTM(units = 80, activation = 'relu', return_sequences = True))\n",
    "model.add(Dropout(0.4))\n",
    "\n",
    "model.add(LSTM(units = 120, activation = 'relu'))\n",
    "model.add(Dropout(0.5))\n",
    "\n",
    "model.add(Dense(units =1))"
   ]
  },
  {
   "cell_type": "code",
   "execution_count": 44,
   "id": "c69edcc2-b11d-4702-8a6c-f6a6e677e79a",
   "metadata": {},
   "outputs": [],
   "source": [
    "model.compile(optimizer = 'adam', loss = 'mean_squared_error')"
   ]
  },
  {
   "cell_type": "code",
   "execution_count": 45,
   "id": "f36e439a-0106-4108-9630-7cdd7e5428e4",
   "metadata": {},
   "outputs": [
    {
     "name": "stdout",
     "output_type": "stream",
     "text": [
      "Epoch 1/50\n",
      "66/66 [==============================] - 10s 105ms/step - loss: 0.0319\n",
      "Epoch 2/50\n",
      "66/66 [==============================] - 7s 105ms/step - loss: 0.0071\n",
      "Epoch 3/50\n",
      "66/66 [==============================] - 12s 186ms/step - loss: 0.0060\n",
      "Epoch 4/50\n",
      "66/66 [==============================] - 9s 135ms/step - loss: 0.0065\n",
      "Epoch 5/50\n",
      "66/66 [==============================] - 7s 113ms/step - loss: 0.0052\n",
      "Epoch 6/50\n",
      "66/66 [==============================] - 7s 113ms/step - loss: 0.0048\n",
      "Epoch 7/50\n",
      "66/66 [==============================] - 8s 117ms/step - loss: 0.0046\n",
      "Epoch 8/50\n",
      "66/66 [==============================] - 8s 115ms/step - loss: 0.0044\n",
      "Epoch 9/50\n",
      "66/66 [==============================] - 8s 115ms/step - loss: 0.0049\n",
      "Epoch 10/50\n",
      "66/66 [==============================] - 8s 114ms/step - loss: 0.0041\n",
      "Epoch 11/50\n",
      "66/66 [==============================] - 7s 113ms/step - loss: 0.0041\n",
      "Epoch 12/50\n",
      "66/66 [==============================] - 9s 139ms/step - loss: 0.0036\n",
      "Epoch 13/50\n",
      "66/66 [==============================] - 9s 137ms/step - loss: 0.0039\n",
      "Epoch 14/50\n",
      "66/66 [==============================] - 9s 134ms/step - loss: 0.0034\n",
      "Epoch 15/50\n",
      "66/66 [==============================] - 10s 148ms/step - loss: 0.0035\n",
      "Epoch 16/50\n",
      "66/66 [==============================] - 8s 126ms/step - loss: 0.0035\n",
      "Epoch 17/50\n",
      "66/66 [==============================] - 8s 114ms/step - loss: 0.0034\n",
      "Epoch 18/50\n",
      "66/66 [==============================] - 8s 129ms/step - loss: 0.0033\n",
      "Epoch 19/50\n",
      "66/66 [==============================] - 8s 117ms/step - loss: 0.0030\n",
      "Epoch 20/50\n",
      "66/66 [==============================] - 8s 114ms/step - loss: 0.0033\n",
      "Epoch 21/50\n",
      "66/66 [==============================] - 8s 117ms/step - loss: 0.0026\n",
      "Epoch 22/50\n",
      "66/66 [==============================] - 8s 113ms/step - loss: 0.0028\n",
      "Epoch 23/50\n",
      "66/66 [==============================] - 8s 115ms/step - loss: 0.0027\n",
      "Epoch 24/50\n",
      "66/66 [==============================] - 8s 114ms/step - loss: 0.0027\n",
      "Epoch 25/50\n",
      "66/66 [==============================] - 8s 127ms/step - loss: 0.0025\n",
      "Epoch 26/50\n",
      "66/66 [==============================] - 7s 113ms/step - loss: 0.0025\n",
      "Epoch 27/50\n",
      "66/66 [==============================] - 7s 113ms/step - loss: 0.0025\n",
      "Epoch 28/50\n",
      "66/66 [==============================] - 8s 114ms/step - loss: 0.0025\n",
      "Epoch 29/50\n",
      "66/66 [==============================] - 7s 112ms/step - loss: 0.0026\n",
      "Epoch 30/50\n",
      "66/66 [==============================] - 7s 114ms/step - loss: 0.0024\n",
      "Epoch 31/50\n",
      "66/66 [==============================] - 8s 114ms/step - loss: 0.0026\n",
      "Epoch 32/50\n",
      "66/66 [==============================] - 7s 113ms/step - loss: 0.0023\n",
      "Epoch 33/50\n",
      "66/66 [==============================] - 7s 113ms/step - loss: 0.0022\n",
      "Epoch 34/50\n",
      "66/66 [==============================] - 8s 114ms/step - loss: 0.0022\n",
      "Epoch 35/50\n",
      "66/66 [==============================] - 7s 113ms/step - loss: 0.0024\n",
      "Epoch 36/50\n",
      "66/66 [==============================] - 7s 112ms/step - loss: 0.0021\n",
      "Epoch 37/50\n",
      "66/66 [==============================] - 8s 120ms/step - loss: 0.0020\n",
      "Epoch 38/50\n",
      "66/66 [==============================] - 7s 113ms/step - loss: 0.0021\n",
      "Epoch 39/50\n",
      "66/66 [==============================] - 8s 114ms/step - loss: 0.0022\n",
      "Epoch 40/50\n",
      "66/66 [==============================] - 8s 113ms/step - loss: 0.0025\n",
      "Epoch 41/50\n",
      "66/66 [==============================] - 9s 130ms/step - loss: 0.0020\n",
      "Epoch 42/50\n",
      "66/66 [==============================] - 8s 114ms/step - loss: 0.0022\n",
      "Epoch 43/50\n",
      "66/66 [==============================] - 7s 113ms/step - loss: 0.0021\n",
      "Epoch 44/50\n",
      "66/66 [==============================] - 7s 113ms/step - loss: 0.0021\n",
      "Epoch 45/50\n",
      "66/66 [==============================] - 8s 114ms/step - loss: 0.0019\n",
      "Epoch 46/50\n",
      "66/66 [==============================] - 8s 116ms/step - loss: 0.0019\n",
      "Epoch 47/50\n",
      "66/66 [==============================] - 8s 118ms/step - loss: 0.0019\n",
      "Epoch 48/50\n",
      "66/66 [==============================] - 9s 139ms/step - loss: 0.0021\n",
      "Epoch 49/50\n",
      "66/66 [==============================] - 8s 118ms/step - loss: 0.0021\n",
      "Epoch 50/50\n",
      "66/66 [==============================] - 8s 115ms/step - loss: 0.0021\n"
     ]
    },
    {
     "data": {
      "text/plain": [
       "<keras.src.callbacks.History at 0x1ed0b200b20>"
      ]
     },
     "execution_count": 45,
     "metadata": {},
     "output_type": "execute_result"
    }
   ],
   "source": [
    "model.fit(x,y, epochs = 50, batch_size =32, verbose =1)"
   ]
  },
  {
   "cell_type": "code",
   "execution_count": 46,
   "id": "62f9decd-83a6-4c03-8963-dc3298b2a104",
   "metadata": {},
   "outputs": [
    {
     "name": "stdout",
     "output_type": "stream",
     "text": [
      "Model: \"sequential_1\"\n",
      "_________________________________________________________________\n",
      " Layer (type)                Output Shape              Param #   \n",
      "=================================================================\n",
      " lstm_4 (LSTM)               (None, 100, 50)           10400     \n",
      "                                                                 \n",
      " dropout_4 (Dropout)         (None, 100, 50)           0         \n",
      "                                                                 \n",
      " lstm_5 (LSTM)               (None, 100, 60)           26640     \n",
      "                                                                 \n",
      " dropout_5 (Dropout)         (None, 100, 60)           0         \n",
      "                                                                 \n",
      " lstm_6 (LSTM)               (None, 100, 80)           45120     \n",
      "                                                                 \n",
      " dropout_6 (Dropout)         (None, 100, 80)           0         \n",
      "                                                                 \n",
      " lstm_7 (LSTM)               (None, 120)               96480     \n",
      "                                                                 \n",
      " dropout_7 (Dropout)         (None, 120)               0         \n",
      "                                                                 \n",
      " dense_1 (Dense)             (None, 1)                 121       \n",
      "                                                                 \n",
      "=================================================================\n",
      "Total params: 178761 (698.29 KB)\n",
      "Trainable params: 178761 (698.29 KB)\n",
      "Non-trainable params: 0 (0.00 Byte)\n",
      "_________________________________________________________________\n"
     ]
    }
   ],
   "source": [
    "model.summary()"
   ]
  },
  {
   "cell_type": "code",
   "execution_count": 47,
   "id": "89cf9dc7-4e14-4c80-82bc-d6dcac8c98a2",
   "metadata": {},
   "outputs": [],
   "source": [
    "pas_100_days = data_train.tail(100)"
   ]
  },
  {
   "cell_type": "code",
   "execution_count": 48,
   "id": "67ef7a1e-63cc-4874-9b61-634026572822",
   "metadata": {},
   "outputs": [],
   "source": [
    "data_test = pd.concat([pas_100_days, data_test], ignore_index=True)"
   ]
  },
  {
   "cell_type": "code",
   "execution_count": 49,
   "id": "7a0512e4-0eaf-4137-b61d-8bb0e48ca041",
   "metadata": {},
   "outputs": [],
   "source": [
    "data_test_scale  =  scaler.fit_transform(data_test)"
   ]
  },
  {
   "cell_type": "code",
   "execution_count": 50,
   "id": "536de9d0-2cc7-41dd-b500-affd3e3fec9d",
   "metadata": {},
   "outputs": [],
   "source": [
    "x = []\n",
    "y = []\n",
    "\n",
    "for i in range(100, data_test_scale.shape[0]):\n",
    "    x.append(data_test_scale[i-100:i])\n",
    "    y.append(data_test_scale[i,0])\n",
    "x, y = np.array(x), np.array(y)"
   ]
  },
  {
   "cell_type": "code",
   "execution_count": 51,
   "id": "4602f57f-8832-4bf6-a50e-bb5164ff7872",
   "metadata": {},
   "outputs": [
    {
     "name": "stdout",
     "output_type": "stream",
     "text": [
      "18/18 [==============================] - 2s 43ms/step\n"
     ]
    }
   ],
   "source": [
    "y_predict = model.predict(x)"
   ]
  },
  {
   "cell_type": "code",
   "execution_count": 52,
   "id": "ca2d2d64-b69a-4eb3-b4f6-5356bfb5b74a",
   "metadata": {},
   "outputs": [],
   "source": [
    "scale =1/scaler.scale_"
   ]
  },
  {
   "cell_type": "code",
   "execution_count": 53,
   "id": "b3e3794a-785d-4ac8-96a3-70fab6259f1c",
   "metadata": {},
   "outputs": [],
   "source": [
    "y_predict = y_predict*scale"
   ]
  },
  {
   "cell_type": "code",
   "execution_count": 54,
   "id": "5acb458b-7488-4860-9ccd-8999d67510f7",
   "metadata": {},
   "outputs": [],
   "source": [
    "y = y*scale"
   ]
  },
  {
   "cell_type": "code",
   "execution_count": 55,
   "id": "6ab280be-9494-4ea1-baf2-45fc38130366",
   "metadata": {},
   "outputs": [
    {
     "data": {
      "image/png": "[encoded data removed]",
      "text/plain": [
       "<Figure size 720x576 with 1 Axes>"
      ]
     },
     "metadata": {
      "needs_background": "light"
     },
     "output_type": "display_data"
    }
   ],
   "source": [
    "plt.figure(figsize=(10,8))\n",
    "plt.plot(y_predict, 'r', label = 'Predicted Price')\n",
    "plt.plot(y, 'g', label = 'Original Price')\n",
    "plt.xlabel('Time')\n",
    "plt.ylabel('Price')\n",
    "plt.legend()\n",
    "plt.show()"
   ]
  },
  {
   "cell_type": "code",
   "execution_count": 56,
   "id": "22143940-722e-4c05-8b46-d2f7d9abb882",
   "metadata": {},
   "outputs": [],
   "source": [
    "model.save('Stock Predictions Model.keras')"
   ]
  },
  {
   "cell_type": "code",
   "execution_count": null,
   "id": "bd3bc001-da88-44ba-85d1-9b72ebfde3a6",
   "metadata": {},
   "outputs": [],
   "source": []
  }
 ],
 "metadata": {
  "kernelspec": {
   "display_name": "Python 3 (ipykernel)",
   "language": "python",
   "name": "python3"
  },
  "language_info": {
   "codemirror_mode": {
    "name": "ipython",
    "version": 3
   },
   "file_extension": ".py",
   "mimetype": "text/x-python",
   "name": "python",
   "nbconvert_exporter": "python",
   "pygments_lexer": "ipython3",
   "version": "3.9.12"
  }
 },
 "nbformat": 4,
 "nbformat_minor": 5
}
